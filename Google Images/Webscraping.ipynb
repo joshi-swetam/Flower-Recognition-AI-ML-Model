{
 "cells": [
  {
   "cell_type": "markdown",
   "metadata": {},
   "source": [
    "# Webscraping from Google\n",
    "## Flowers "
   ]
  },
  {
   "cell_type": "code",
   "execution_count": 10,
   "metadata": {},
   "outputs": [],
   "source": [
    "# Install Selenium. You only need to do this once.\n",
    "#!pip install selenium\n",
    "#!apt-get update\n",
    "#!apt install chromium-chromedriver\n",
    "#!pip install webdriver_manager"
   ]
  },
  {
   "cell_type": "code",
   "execution_count": 11,
   "metadata": {},
   "outputs": [],
   "source": [
    "import sys\n",
    "sys.path.insert(0,'/usr/lib/chromium-browser/chromedriver')"
   ]
  },
  {
   "cell_type": "code",
   "execution_count": 15,
   "metadata": {},
   "outputs": [
    {
     "name": "stderr",
     "output_type": "stream",
     "text": [
      "C:\\Users\\8saks\\AppData\\Local\\Temp\\ipykernel_18484\\2531815740.py:16: DeprecationWarning: use options instead of chrome_options\n",
      "  wd = webdriver.Chrome('chromedriver',chrome_options=chrome_options)\n"
     ]
    }
   ],
   "source": [
    "import os\n",
    "import time\n",
    "import requests\n",
    "import urllib.request\n",
    "from selenium import webdriver\n",
    "from selenium.webdriver.common.by import By\n",
    "from selenium.webdriver.support.ui import WebDriverWait\n",
    "from selenium.webdriver.support import expected_conditions as EC\n",
    "from webdriver_manager.chrome import ChromeDriverManager\n",
    "\n",
    "# Setup Chrome options to run headless\n",
    "chrome_options = webdriver.ChromeOptions()\n",
    "chrome_options.add_argument('--headless')\n",
    "chrome_options.add_argument('--no-sandbox')\n",
    "chrome_options.add_argument('--disable-dev-shm-usage')\n",
    "wd = webdriver.Chrome('chromedriver',chrome_options=chrome_options)"
   ]
  },
  {
   "cell_type": "code",
   "execution_count": 16,
   "metadata": {},
   "outputs": [
    {
     "name": "stdout",
     "output_type": "stream",
     "text": [
      "Downloading images for rose\n"
     ]
    },
    {
     "name": "stderr",
     "output_type": "stream",
     "text": [
      "C:\\Users\\8saks\\AppData\\Local\\Temp\\ipykernel_18484\\2286386589.py:14: DeprecationWarning: executable_path has been deprecated, please pass in a Service object\n",
      "  driver = webdriver.Chrome(ChromeDriverManager().install(), options=chrome_options)\n"
     ]
    },
    {
     "name": "stdout",
     "output_type": "stream",
     "text": [
      "Downloading images for lily\n",
      "Downloading images for tulip\n",
      "Downloading images for sunflower\n",
      "Downloading images for daisy\n",
      "Downloading images for orchid\n",
      "Downloading images for daffodil\n",
      "Downloading images for geranium\n",
      "Downloading images for irises\n",
      "Downloading images for hydrangea\n"
     ]
    }
   ],
   "source": [
    "# Define your flower types\n",
    "FLOWER_TYPES = ['rose', 'lily', 'tulip', 'sunflower', 'daisy', 'orchid', 'daffodil', 'geranium', 'irises', 'hydrangea']\n",
    "\n",
    "# Set up Chrome options\n",
    "chrome_options = webdriver.ChromeOptions()\n",
    "chrome_options.add_argument(\"--headless\")\n",
    "\n",
    "def download_google_images(flower, num_images):\n",
    "    # Make directory for each flower type\n",
    "    if not os.path.exists(flower):\n",
    "        os.makedirs(flower)\n",
    "\n",
    "    # Set up the driver\n",
    "    driver = webdriver.Chrome(ChromeDriverManager().install(), options=chrome_options)\n",
    "\n",
    "    # Go to Google Images\n",
    "    driver.get(f\"https://www.google.com/search?q={flower}&sxsrf=AOaemvL4V-jJP1tvd22vSgPK-jR_0LZf-Q:1638701516328&source=lnms&tbm=isch&sa=X&ved=2ahUKEwiIvoKd8PbzAhULYsAKHUJHC_4Q_AUoAXoECAEQAw&biw=1366&bih=657\")\n",
    "\n",
    "    # Scroll to the end of the page\n",
    "    value = 0\n",
    "    for i in range(20):\n",
    "        driver.execute_script(\"scrollBy(\"+ str(value) +\",+1000);\")\n",
    "        value += 1000\n",
    "        time.sleep(1)\n",
    "\n",
    "    try:\n",
    "        # Wait until the images load\n",
    "        images = WebDriverWait(driver, 10).until(EC.presence_of_all_elements_located((By.TAG_NAME, \"img\")))\n",
    "\n",
    "        # Iterate over each img element and download the image\n",
    "        count = 0\n",
    "        for image in images:\n",
    "            # Stop if we have enough images\n",
    "            if count >= num_images:\n",
    "                break\n",
    "\n",
    "            # Get image source\n",
    "            src = image.get_attribute(\"src\")\n",
    "\n",
    "            # Save image\n",
    "            try:\n",
    "                if src != None:\n",
    "                    src  = str(src)\n",
    "                    urllib.request.urlretrieve(src, os.path.join(flower, f\"{flower}_{count}.jpg\"))\n",
    "                    count += 1\n",
    "            except Exception as e:\n",
    "                print(f\"Could not write image {count}\")\n",
    "    finally:\n",
    "        # Close driver\n",
    "        driver.quit()\n",
    "\n",
    "# Use function\n",
    "for flower in FLOWER_TYPES:\n",
    "    print(f\"Downloading images for {flower}\")\n",
    "    download_google_images(flower, 200)"
   ]
  },
  {
   "cell_type": "code",
   "execution_count": null,
   "metadata": {},
   "outputs": [],
   "source": []
  }
 ],
 "metadata": {
  "kernelspec": {
   "display_name": "Python 3 (ipykernel)",
   "language": "python",
   "name": "python3"
  },
  "language_info": {
   "codemirror_mode": {
    "name": "ipython",
    "version": 3
   },
   "file_extension": ".py",
   "mimetype": "text/x-python",
   "name": "python",
   "nbconvert_exporter": "python",
   "pygments_lexer": "ipython3",
   "version": "3.10.9"
  },
  "vscode": {
   "interpreter": {
    "hash": "31f2aee4e71d21fbe5cf8b01ff0e069b9275f58929596ceb00d14d90e3e16cd6"
   }
  }
 },
 "nbformat": 4,
 "nbformat_minor": 4
}
