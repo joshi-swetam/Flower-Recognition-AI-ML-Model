{
 "cells": [
  {
   "cell_type": "code",
   "execution_count": 1,
   "metadata": {},
   "outputs": [],
   "source": [
    "# Load the model\n",
    "from tensorflow.keras.models import load_model\n",
    "from tensorflow.keras.preprocessing import image\n",
    "import numpy as np \n",
    "from tensorflow.keras.preprocessing.image import img_to_array\n"
   ]
  },
  {
   "cell_type": "code",
   "execution_count": 2,
   "metadata": {},
   "outputs": [
    {
     "name": "stdout",
     "output_type": "stream",
     "text": [
      "1/1 [==============================] - 0s 232ms/step\n",
      "[[0. 0. 0. 0. 1. 0. 0. 0. 0. 0.]]\n",
      "1/1 [==============================] - 0s 48ms/step\n"
     ]
    },
    {
     "data": {
      "text/plain": [
       "array([4], dtype=int64)"
      ]
     },
     "execution_count": 2,
     "metadata": {},
     "output_type": "execute_result"
    }
   ],
   "source": [
    "model = load_model(\"model_79.h5\")\n",
    "filepath = \"Predict/Bougainvillea.jpg\"\n",
    "image_size = (150, 150)\n",
    "import cv2\n",
    "img = cv2.imread(filepath, cv2.IMREAD_COLOR)\n",
    "img = cv2.resize(img, (150, 150))\n",
    "image = img_to_array(img)\n",
    "image = np.expand_dims(image,axis=0)\n",
    "image.shape\n",
    "result= model.predict(image)\n",
    "print(result)\n",
    "np.argmax(model.predict(image),axis=1)"
   ]
  }
 ],
 "metadata": {
  "kernelspec": {
   "display_name": "base",
   "language": "python",
   "name": "python3"
  },
  "language_info": {
   "codemirror_mode": {
    "name": "ipython",
    "version": 3
   },
   "file_extension": ".py",
   "mimetype": "text/x-python",
   "name": "python",
   "nbconvert_exporter": "python",
   "pygments_lexer": "ipython3",
   "version": "3.10.9"
  },
  "orig_nbformat": 4
 },
 "nbformat": 4,
 "nbformat_minor": 2
}
