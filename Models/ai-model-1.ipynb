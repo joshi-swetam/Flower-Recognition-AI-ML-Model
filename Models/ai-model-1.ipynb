{
 "cells": [
  {
   "cell_type": "code",
   "execution_count": 41,
   "metadata": {},
   "outputs": [],
   "source": [
    "import random as rn\n",
    "import numpy as np\n",
    "import pandas as pd\n",
    "import matplotlib.pyplot as plt\n",
    "from matplotlib import style\n",
    "import seaborn as sns\n",
    "%matplotlib inline  \n",
    "style.use('fivethirtyeight')\n",
    "sns.set(style='whitegrid',color_codes=True)"
   ]
  },
  {
   "cell_type": "code",
   "execution_count": 42,
   "metadata": {},
   "outputs": [],
   "source": [
    "X = np.load(\"dataset/data.npy\")\n",
    "labels = np.load(\"dataset/label.npy\")"
   ]
  },
  {
   "cell_type": "code",
   "execution_count": 43,
   "metadata": {},
   "outputs": [],
   "source": [
    "from sklearn.preprocessing import LabelEncoder\n",
    "from keras.utils import to_categorical\n",
    "\n",
    "labelEncoder = LabelEncoder()\n",
    "y = labelEncoder.fit_transform(labels)\n",
    "y = to_categorical(y, 10)"
   ]
  },
  {
   "cell_type": "code",
   "execution_count": 44,
   "metadata": {},
   "outputs": [],
   "source": [
    "from sklearn.model_selection import train_test_split\n",
    "from sklearn.model_selection import KFold\n",
    "from sklearn.preprocessing import StandardScaler\n",
    "from sklearn.metrics import accuracy_score, precision_score\n",
    "from sklearn.model_selection import GridSearchCV\n",
    "import tensorflow as tf"
   ]
  },
  {
   "cell_type": "code",
   "execution_count": 45,
   "metadata": {},
   "outputs": [
    {
     "name": "stdout",
     "output_type": "stream",
     "text": [
      "x_train shape:  (2500, 150, 150, 3)\n",
      "x_test shape:  (626, 150, 150, 3)\n",
      "y_train shape:  (2500, 10)\n",
      "y_test shape:  (626, 10)\n"
     ]
    }
   ],
   "source": [
    "x_train, x_test, y_train, y_test = train_test_split(X, y, test_size = 0.2, random_state=42)\n",
    "\n",
    "print(\"x_train shape: \", x_train.shape)\n",
    "print(\"x_test shape: \", x_test.shape)\n",
    "print(\"y_train shape: \", y_train.shape)\n",
    "print(\"y_test shape: \", y_test.shape)"
   ]
  },
  {
   "cell_type": "code",
   "execution_count": 48,
   "metadata": {},
   "outputs": [],
   "source": [
    "# know neural ntwrk architecture # work in sequential model\n",
    "from keras.models import Sequential\n",
    "from keras.layers import Dense, Flatten, Conv2D, MaxPooling2D, Activation\n",
    "from keras.optimizers import Adam"
   ]
  },
  {
   "cell_type": "code",
   "execution_count": 49,
   "metadata": {},
   "outputs": [],
   "source": [
    "# modelling \n",
    "model = Sequential()\n",
    "\n",
    "model.add(Conv2D(filters = 32, kernel_size=(5,5), padding = \"Same\", activation=\"relu\", input_shape = (150,150,3)))\n",
    "model.add(MaxPooling2D(pool_size=(2,2)))\n",
    "\n",
    "model.add(Conv2D(filters = 64, kernel_size = (3,3), padding  = \"Same\", activation = \"relu\"))\n",
    "model.add(MaxPooling2D(pool_size=(2,2)))\n",
    "\n",
    "model.add(Conv2D(filters = 96, kernel_size = (3,3), padding  = \"Same\", activation = \"relu\"))\n",
    "model.add(MaxPooling2D(pool_size=(2,2)))\n",
    "\n",
    "model.add(Conv2D(filters = 96, kernel_size = (3,3), padding  = \"Same\", activation = \"relu\"))\n",
    "model.add(MaxPooling2D(pool_size=(2,2)))\n",
    "\n",
    "\n",
    "model.add(Flatten())\n",
    "model.add(Dense(512))\n",
    "model.add(Activation('relu'))\n",
    "model.add(Dense(10, activation=\"softmax\"))"
   ]
  },
  {
   "cell_type": "code",
   "execution_count": 50,
   "metadata": {},
   "outputs": [],
   "source": [
    "# preprocess\n",
    "from keras.preprocessing.image import ImageDataGenerator\n",
    "# data augmentation\n",
    "datagen = ImageDataGenerator(\n",
    "    featurewise_center=False,  # set input mean to 0 over the dataset\n",
    "    samplewise_center=False,   # set each sample mean to 0\n",
    "    featurewise_std_normalization=False,   # divide inputs by std of the dataset\n",
    "    samplewise_std_normalization= False,   # divide each input by its std\n",
    "    zca_whitening=False,   # dimesion reduction\n",
    "    rotation_range=10,    # randomly rotate images in the range 10 degrees\n",
    "    zoom_range=0.1,      # Randomly zoom image 10%\n",
    "    width_shift_range=0.2,   # randomly shift images horizontally 20%\n",
    "    height_shift_range=0.2,   # randomly shift images vertically 20%\n",
    "    horizontal_flip=True,     # randomly flip images\n",
    "    vertical_flip=False    # randomly flip images\n",
    ")\n",
    "datagen.fit(x_train)"
   ]
  },
  {
   "cell_type": "code",
   "execution_count": 51,
   "metadata": {},
   "outputs": [],
   "source": [
    "model.compile(optimizer=Adam(learning_rate=0.001), loss=\"categorical_crossentropy\", metrics = [\"accuracy\"])"
   ]
  },
  {
   "cell_type": "code",
   "execution_count": 52,
   "metadata": {},
   "outputs": [
    {
     "name": "stdout",
     "output_type": "stream",
     "text": [
      "Epoch 1/50\n",
      "19/19 [==============================] - 24s 1s/step - loss: 16.7708 - accuracy: 0.1336 - val_loss: 2.1078 - val_accuracy: 0.2109\n",
      "Epoch 2/50\n",
      "19/19 [==============================] - 23s 1s/step - loss: 2.0417 - accuracy: 0.2255 - val_loss: 2.0463 - val_accuracy: 0.2556\n",
      "Epoch 3/50\n",
      "19/19 [==============================] - 25s 1s/step - loss: 1.9098 - accuracy: 0.2976 - val_loss: 1.8027 - val_accuracy: 0.3514\n",
      "Epoch 4/50\n",
      "19/19 [==============================] - 25s 1s/step - loss: 1.7915 - accuracy: 0.3402 - val_loss: 1.8716 - val_accuracy: 0.3371\n",
      "Epoch 5/50\n",
      "19/19 [==============================] - 25s 1s/step - loss: 1.6615 - accuracy: 0.3963 - val_loss: 1.6444 - val_accuracy: 0.3930\n",
      "Epoch 6/50\n",
      "19/19 [==============================] - 25s 1s/step - loss: 1.5876 - accuracy: 0.4262 - val_loss: 1.6972 - val_accuracy: 0.3770\n",
      "Epoch 7/50\n",
      "19/19 [==============================] - 26s 1s/step - loss: 1.5827 - accuracy: 0.4300 - val_loss: 1.6496 - val_accuracy: 0.4281\n",
      "Epoch 8/50\n",
      "19/19 [==============================] - 25s 1s/step - loss: 1.5187 - accuracy: 0.4498 - val_loss: 1.5128 - val_accuracy: 0.4712\n",
      "Epoch 9/50\n",
      "19/19 [==============================] - 25s 1s/step - loss: 1.4666 - accuracy: 0.4844 - val_loss: 1.5245 - val_accuracy: 0.4649\n",
      "Epoch 10/50\n",
      "19/19 [==============================] - 25s 1s/step - loss: 1.4070 - accuracy: 0.5063 - val_loss: 1.4853 - val_accuracy: 0.4856\n",
      "Epoch 11/50\n",
      "19/19 [==============================] - 25s 1s/step - loss: 1.3574 - accuracy: 0.5207 - val_loss: 1.4696 - val_accuracy: 0.5000\n",
      "Epoch 12/50\n",
      "19/19 [==============================] - 26s 1s/step - loss: 1.3172 - accuracy: 0.5278 - val_loss: 1.4625 - val_accuracy: 0.5032\n",
      "Epoch 13/50\n",
      "19/19 [==============================] - 26s 1s/step - loss: 1.2590 - accuracy: 0.5569 - val_loss: 1.4106 - val_accuracy: 0.5080\n",
      "Epoch 14/50\n",
      "19/19 [==============================] - 27s 1s/step - loss: 1.2776 - accuracy: 0.5468 - val_loss: 1.3460 - val_accuracy: 0.5591\n",
      "Epoch 15/50\n",
      "19/19 [==============================] - 27s 1s/step - loss: 1.1882 - accuracy: 0.5826 - val_loss: 1.3814 - val_accuracy: 0.5335\n",
      "Epoch 16/50\n",
      "19/19 [==============================] - 27s 1s/step - loss: 1.2317 - accuracy: 0.5818 - val_loss: 1.3423 - val_accuracy: 0.5415\n",
      "Epoch 17/50\n",
      "19/19 [==============================] - 27s 1s/step - loss: 1.1857 - accuracy: 0.5767 - val_loss: 1.3387 - val_accuracy: 0.5543\n",
      "Epoch 18/50\n",
      "19/19 [==============================] - 27s 1s/step - loss: 1.1370 - accuracy: 0.6050 - val_loss: 1.2482 - val_accuracy: 0.5990\n",
      "Epoch 19/50\n",
      "19/19 [==============================] - 27s 1s/step - loss: 1.1794 - accuracy: 0.5915 - val_loss: 1.3160 - val_accuracy: 0.5623\n",
      "Epoch 20/50\n",
      "19/19 [==============================] - 27s 1s/step - loss: 1.1222 - accuracy: 0.6147 - val_loss: 1.2706 - val_accuracy: 0.5799\n",
      "Epoch 21/50\n",
      "19/19 [==============================] - 35s 2s/step - loss: 1.0636 - accuracy: 0.6320 - val_loss: 1.2233 - val_accuracy: 0.5623\n",
      "Epoch 22/50\n",
      "19/19 [==============================] - 37s 2s/step - loss: 1.0653 - accuracy: 0.6307 - val_loss: 1.3289 - val_accuracy: 0.5399\n",
      "Epoch 23/50\n",
      "19/19 [==============================] - 28s 1s/step - loss: 1.0657 - accuracy: 0.6320 - val_loss: 1.3127 - val_accuracy: 0.5735\n",
      "Epoch 24/50\n",
      "19/19 [==============================] - 28s 1s/step - loss: 1.0585 - accuracy: 0.6282 - val_loss: 1.2744 - val_accuracy: 0.5847\n",
      "Epoch 25/50\n",
      "19/19 [==============================] - 28s 1s/step - loss: 1.0036 - accuracy: 0.6433 - val_loss: 1.2341 - val_accuracy: 0.5831\n",
      "Epoch 26/50\n",
      "19/19 [==============================] - 27s 1s/step - loss: 0.9897 - accuracy: 0.6707 - val_loss: 1.1471 - val_accuracy: 0.6102\n",
      "Epoch 27/50\n",
      "19/19 [==============================] - 28s 1s/step - loss: 0.9598 - accuracy: 0.6737 - val_loss: 1.2769 - val_accuracy: 0.5847\n",
      "Epoch 28/50\n",
      "19/19 [==============================] - 27s 1s/step - loss: 0.9525 - accuracy: 0.6648 - val_loss: 1.1206 - val_accuracy: 0.6262\n",
      "Epoch 29/50\n",
      "19/19 [==============================] - 27s 1s/step - loss: 0.9727 - accuracy: 0.6602 - val_loss: 1.1906 - val_accuracy: 0.6022\n",
      "Epoch 30/50\n",
      "19/19 [==============================] - 28s 1s/step - loss: 0.9308 - accuracy: 0.6779 - val_loss: 1.1729 - val_accuracy: 0.6070\n",
      "Epoch 31/50\n",
      "19/19 [==============================] - 28s 1s/step - loss: 0.9032 - accuracy: 0.6834 - val_loss: 1.2442 - val_accuracy: 0.6086\n",
      "Epoch 32/50\n",
      "19/19 [==============================] - 27s 1s/step - loss: 0.9788 - accuracy: 0.6513 - val_loss: 1.2601 - val_accuracy: 0.5799\n",
      "Epoch 33/50\n",
      "19/19 [==============================] - 28s 1s/step - loss: 0.9075 - accuracy: 0.6804 - val_loss: 1.1793 - val_accuracy: 0.6038\n",
      "Epoch 34/50\n",
      "19/19 [==============================] - 28s 1s/step - loss: 0.8577 - accuracy: 0.6969 - val_loss: 1.1157 - val_accuracy: 0.6262\n",
      "Epoch 35/50\n",
      "19/19 [==============================] - 27s 1s/step - loss: 0.8658 - accuracy: 0.6944 - val_loss: 1.1328 - val_accuracy: 0.6198\n",
      "Epoch 36/50\n",
      "19/19 [==============================] - 27s 1s/step - loss: 0.8512 - accuracy: 0.7121 - val_loss: 1.2546 - val_accuracy: 0.6166\n",
      "Epoch 37/50\n",
      "19/19 [==============================] - 27s 1s/step - loss: 0.8770 - accuracy: 0.6969 - val_loss: 1.1675 - val_accuracy: 0.6374\n",
      "Epoch 38/50\n",
      "19/19 [==============================] - 27s 1s/step - loss: 0.7647 - accuracy: 0.7399 - val_loss: 1.2019 - val_accuracy: 0.6198\n",
      "Epoch 39/50\n",
      "19/19 [==============================] - 27s 1s/step - loss: 0.7748 - accuracy: 0.7310 - val_loss: 1.2255 - val_accuracy: 0.6070\n",
      "Epoch 40/50\n",
      "19/19 [==============================] - 28s 1s/step - loss: 0.7387 - accuracy: 0.7411 - val_loss: 1.1168 - val_accuracy: 0.6374\n",
      "Epoch 41/50\n",
      "19/19 [==============================] - 28s 1s/step - loss: 0.7562 - accuracy: 0.7395 - val_loss: 1.1657 - val_accuracy: 0.6454\n",
      "Epoch 42/50\n",
      "19/19 [==============================] - 27s 1s/step - loss: 0.7294 - accuracy: 0.7382 - val_loss: 1.3533 - val_accuracy: 0.6006\n",
      "Epoch 43/50\n",
      "19/19 [==============================] - 27s 1s/step - loss: 0.7919 - accuracy: 0.7239 - val_loss: 1.1994 - val_accuracy: 0.6070\n",
      "Epoch 44/50\n",
      "19/19 [==============================] - 27s 1s/step - loss: 0.7554 - accuracy: 0.7424 - val_loss: 1.1182 - val_accuracy: 0.6470\n",
      "Epoch 45/50\n",
      "19/19 [==============================] - 28s 1s/step - loss: 0.7325 - accuracy: 0.7407 - val_loss: 1.1636 - val_accuracy: 0.6581\n",
      "Epoch 46/50\n",
      "19/19 [==============================] - 74s 4s/step - loss: 0.6993 - accuracy: 0.7719 - val_loss: 1.1812 - val_accuracy: 0.6262\n",
      "Epoch 47/50\n",
      "19/19 [==============================] - 26s 1s/step - loss: 0.7130 - accuracy: 0.7475 - val_loss: 1.1524 - val_accuracy: 0.6358\n",
      "Epoch 48/50\n",
      "19/19 [==============================] - 27s 1s/step - loss: 0.6654 - accuracy: 0.7715 - val_loss: 1.2260 - val_accuracy: 0.6550\n",
      "Epoch 49/50\n",
      "19/19 [==============================] - 28s 1s/step - loss: 0.6924 - accuracy: 0.7521 - val_loss: 1.1005 - val_accuracy: 0.6629\n",
      "Epoch 50/50\n",
      "19/19 [==============================] - 28s 1s/step - loss: 0.6907 - accuracy: 0.7669 - val_loss: 1.2317 - val_accuracy: 0.6406\n"
     ]
    }
   ],
   "source": [
    "# Train the model\n",
    "batch_size = 128\n",
    "epochs = 50\n",
    "\n",
    "from keras.callbacks import ReduceLROnPlateau\n",
    "red_lr= ReduceLROnPlateau(monitor='val_acc', patience=3, verbose=1, factor=0.1)\n",
    "\n",
    "history = model.fit(\n",
    "    datagen.flow(x_train, y_train, batch_size=batch_size),\n",
    "    steps_per_epoch=len(x_train) // batch_size,\n",
    "    epochs=epochs,\n",
    "    validation_data=(x_test, y_test))"
   ]
  },
  {
   "cell_type": "code",
   "execution_count": 53,
   "metadata": {},
   "outputs": [
    {
     "name": "stdout",
     "output_type": "stream",
     "text": [
      "20/20 [==============================] - 2s 83ms/step - loss: 1.2317 - accuracy: 0.6406\n"
     ]
    }
   ],
   "source": [
    "test_loss, test_acc = model.evaluate(x_test, y_test)"
   ]
  },
  {
   "cell_type": "code",
   "execution_count": 54,
   "metadata": {},
   "outputs": [],
   "source": [
    "# Save the model\n",
    "#model.save(\"model/flower-recognition-model.h5\")\n",
    "# Save the model\n",
    "model.save(\"model/flower-recognition-model-50-epochs.h5\")"
   ]
  }
 ],
 "metadata": {
  "kernelspec": {
   "display_name": "PythonData",
   "language": "python",
   "name": "python3"
  },
  "language_info": {
   "codemirror_mode": {
    "name": "ipython",
    "version": 3
   },
   "file_extension": ".py",
   "mimetype": "text/x-python",
   "name": "python",
   "nbconvert_exporter": "python",
   "pygments_lexer": "ipython3",
   "version": "3.10.9"
  },
  "orig_nbformat": 4
 },
 "nbformat": 4,
 "nbformat_minor": 2
}
