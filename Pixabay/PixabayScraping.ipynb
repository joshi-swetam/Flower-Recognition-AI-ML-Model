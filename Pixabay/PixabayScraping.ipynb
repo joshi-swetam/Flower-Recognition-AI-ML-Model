{
 "cells": [
  {
   "cell_type": "code",
   "execution_count": 4,
   "metadata": {},
   "outputs": [],
   "source": [
    "import pandas as pd\n",
    "import requests\n",
    "import numpy as np\n",
    "import os\n",
    "import json\n",
    "import shutil\n",
    "from config import api_key\n",
    "from PIL import Image"
   ]
  },
  {
   "cell_type": "code",
   "execution_count": 131,
   "metadata": {},
   "outputs": [],
   "source": [
    "def download_pixabay_images(flower, label, num_images):\n",
    "    destination_folder = flower\n",
    "    IMAGE_SIZE = (256, 256)\n",
    "\n",
    "    # Make directory for each flower type\n",
    "    if os.path.exists(destination_folder):\n",
    "        shutil.rmtree(destination_folder, ignore_errors=True)\n",
    "    os.makedirs(destination_folder)\n",
    "\n",
    "    query = \"single \" + flower + \" flower\"\n",
    "    base_url = f\"https://pixabay.com/api/?key={api_key}&q={query}+flowers&image_type=photo&pretty=true&min_width=96&min_height=96\"\n",
    "    params = {\n",
    "        'per_page': num_images\n",
    "    }\n",
    "    result = requests.get(base_url,params = params)\n",
    "    json_data = result.json()\n",
    "\n",
    "    for index, image in enumerate(json_data['hits']):\n",
    "        image_url = image['largeImageURL']\n",
    "        r = requests.get(image_url,stream = True)\n",
    "\n",
    "        filename = f'{destination_folder}/{flower}_{index}.jpg'\n",
    "\n",
    "        with open(filename ,'wb') as f:\n",
    "            f.write(r.content)\n",
    "\n",
    "            img = Image.open(filename) \n",
    "            grescale_img = img.convert(\"L\")\n",
    "            grescale_img = grescale_img.resize(IMAGE_SIZE)\n",
    "            grescale_img.save(filename) \n",
    "\n",
    "    return dict"
   ]
  },
  {
   "cell_type": "code",
   "execution_count": 132,
   "metadata": {},
   "outputs": [],
   "source": [
    "FLOWER_TYPES = ['rose', 'lily', 'tulip', 'sunflower', 'daisy', 'orchid', 'daffodil', 'geranium', 'irises', 'hydrangea']\n",
    "NUM_IMAGES = 200\n",
    "\n",
    "dict = {}\n",
    "\n",
    "for label, flower in enumerate(FLOWER_TYPES):\n",
    "    dict = download_pixabay_images(flower, label, NUM_IMAGES)"
   ]
  }
 ],
 "metadata": {
  "kernelspec": {
   "display_name": "PythonData",
   "language": "python",
   "name": "python3"
  },
  "language_info": {
   "codemirror_mode": {
    "name": "ipython",
    "version": 3
   },
   "file_extension": ".py",
   "mimetype": "text/x-python",
   "name": "python",
   "nbconvert_exporter": "python",
   "pygments_lexer": "ipython3",
   "version": "3.10.9"
  },
  "orig_nbformat": 4
 },
 "nbformat": 4,
 "nbformat_minor": 2
}
