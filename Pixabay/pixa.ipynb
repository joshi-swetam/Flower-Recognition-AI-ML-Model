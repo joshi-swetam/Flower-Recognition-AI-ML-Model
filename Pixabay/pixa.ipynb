{
 "cells": [
  {
   "cell_type": "code",
   "execution_count": 1,
   "metadata": {},
   "outputs": [],
   "source": [
    "import pandas as pd\n",
    "import requests\n",
    "import os\n",
    "from config import api_key\n",
    "import time"
   ]
  },
  {
   "cell_type": "code",
   "execution_count": 2,
   "metadata": {},
   "outputs": [],
   "source": [
    "flower = ['rose', 'lily', 'tulip', 'sunflower', 'daisy', 'orchid', 'daffodil','calendula', 'geranium', 'irises', 'hydrangea']\n",
    "for each in flower:\n",
    "    base_url = f\"https://pixabay.com/api/?key={api_key}&q={each}+flowers&image_type=photo&pretty=true\"\n",
    "#https://pixabay.com/api/?key=38319608-1012b573181c9697ce46a7d42&q=yellow+flowers&image_type=photo&pretty=true\n",
    "    params = {\n",
    "       'per_page': 200\n",
    "    }\n",
    "    # Parent Directory path\n",
    "    path = \"Project 4/Pixabay-Image-API/\"\n",
    "    if not os.path.exists(each):\n",
    "         os.makedirs(each)\n",
    "    result = requests.get(base_url,params = params)\n",
    "    json_data = result.json()\n",
    "    count = 0\n",
    "    for image in json_data['hits']:\n",
    "        #name = image['id']\n",
    "        image_url = image['largeImageURL']\n",
    "        r = requests.get(image_url,stream = True)\n",
    "        #name = str(name)\n",
    "        with open((os.path.join(each, f\"{each}_{count}.jpg\")) ,'wb') as f:\n",
    "            f.write(r.content)\n",
    "        count += 1\n",
    "time.sleep(60)"
   ]
  },
  {
   "cell_type": "code",
   "execution_count": 12,
   "metadata": {},
   "outputs": [],
   "source": []
  },
  {
   "cell_type": "code",
   "execution_count": 13,
   "metadata": {},
   "outputs": [],
   "source": []
  },
  {
   "cell_type": "code",
   "execution_count": 19,
   "metadata": {},
   "outputs": [],
   "source": []
  }
 ],
 "metadata": {
  "kernelspec": {
   "display_name": "base",
   "language": "python",
   "name": "python3"
  },
  "language_info": {
   "codemirror_mode": {
    "name": "ipython",
    "version": 3
   },
   "file_extension": ".py",
   "mimetype": "text/x-python",
   "name": "python",
   "nbconvert_exporter": "python",
   "pygments_lexer": "ipython3",
   "version": "3.10.9"
  },
  "orig_nbformat": 4
 },
 "nbformat": 4,
 "nbformat_minor": 2
}
